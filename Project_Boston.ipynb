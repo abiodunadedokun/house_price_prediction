{
 "cells": [
  {
   "cell_type": "code",
   "execution_count": 38,
   "metadata": {},
   "outputs": [],
   "source": [
    "# The name for this dataset is Boston. It has two prototasks: nox, in which the nitrous oxide level \n",
    "# is to be predicted; and price, in which the median value of a home is to be predicted\n",
    "\n",
    "#1. Price prediction\n",
    "\n",
    "# Step 1: Import necessary libraries and load the Data\n",
    "\n",
    "import numpy as np\n",
    "import pandas as pd\n",
    "import matplotlib.pyplot as plt\n",
    "import seaborn as sns\n",
    "%matplotlib inline\n",
    "\n"
   ]
  },
  {
   "cell_type": "code",
   "execution_count": 39,
   "metadata": {},
   "outputs": [
    {
     "name": "stdout",
     "output_type": "stream",
     "text": [
      "      CRIM    ZN  INDUS  CHAS    NOX     RM   AGE     DIS  RAD    TAX  \\\n",
      "0  0.00632  18.0   2.31   0.0  0.538  6.575  65.2  4.0900  1.0  296.0   \n",
      "1  0.02731   0.0   7.07   0.0  0.469  6.421  78.9  4.9671  2.0  242.0   \n",
      "2  0.02729   0.0   7.07   0.0  0.469  7.185  61.1  4.9671  2.0  242.0   \n",
      "3  0.03237   0.0   2.18   0.0  0.458  6.998  45.8  6.0622  3.0  222.0   \n",
      "4  0.06905   0.0   2.18   0.0  0.458  7.147  54.2  6.0622  3.0  222.0   \n",
      "\n",
      "   PTRATIO       B  LSTAT  MDEV  \n",
      "0     15.3  396.90   4.98  24.0  \n",
      "1     17.8  396.90   9.14  21.6  \n",
      "2     17.8  392.83   4.03  34.7  \n",
      "3     18.7  394.63   2.94  33.4  \n",
      "4     18.7  396.90   5.33  36.2  \n"
     ]
    }
   ],
   "source": [
    "# Importing the dataset and extracting the dependent and independent variables\n",
    "data=pd.read_csv(\"boston.csv\")\n",
    "\n",
    "features=[\"CRIM\", \"ZN\",\"INDUS\",\"CHAS\",\"NOX\",\"RM\",\"AGE\",\"DIS\",\"RAD\",\"TAX\",\"PTRATIO\",\"B\",\"LSTAT\",\"MDEV\"]\n",
    "X=data.iloc[:, :-1].values\n",
    "y=data.iloc[:,13].values\n",
    "\n",
    "print(data.head())\n",
    "\n"
   ]
  },
  {
   "cell_type": "code",
   "execution_count": 40,
   "metadata": {},
   "outputs": [
    {
     "data": {
      "text/plain": [
       "<matplotlib.axes._subplots.AxesSubplot at 0x2db0af944a8>"
      ]
     },
     "execution_count": 40,
     "metadata": {},
     "output_type": "execute_result"
    },
    {
     "data": {
      "image/png": "[encoded data removed]",
      "text/plain": [
       "<matplotlib.figure.Figure at 0x2db0afc2860>"
      ]
     },
     "metadata": {},
     "output_type": "display_data"
    }
   ],
   "source": [
    "# step 3: Create Data Visualization through the Correlation matrix\n",
    "\n",
    "\n",
    "sns.heatmap(data.corr())\n",
    "\n"
   ]
  },
  {
   "cell_type": "code",
   "execution_count": 59,
   "metadata": {},
   "outputs": [],
   "source": [
    "# step 3: Fitting the linear regression model\n",
    "\n",
    "# Import LinearRegression and split the data into training and tesing sets\n",
    "\n",
    "from sklearn.model_selection import train_test_split\n",
    "X_train, X_test, y_train, y_test = train_test_split(X,y,test_size=0.2,random_state=1)\n",
    "\n",
    "\n",
    "\n",
    "\n",
    "\n"
   ]
  },
  {
   "cell_type": "code",
   "execution_count": 60,
   "metadata": {},
   "outputs": [
    {
     "data": {
      "text/plain": [
       "LinearRegression(copy_X=True, fit_intercept=True, n_jobs=1, normalize=False)"
      ]
     },
     "execution_count": 60,
     "metadata": {},
     "output_type": "execute_result"
    }
   ],
   "source": [
    "# Fit the model over the training dataset\n",
    "\n",
    "from sklearn.linear_model import LinearRegression\n",
    "model=LinearRegression()\n",
    "model.fit(X_train,y_train)"
   ]
  },
  {
   "cell_type": "code",
   "execution_count": 61,
   "metadata": {},
   "outputs": [
    {
     "data": {
      "text/plain": [
       "array([32.65177869, 28.09317006, 18.02888945, 21.48209204, 18.82477513,\n",
       "       19.88223914, 32.41965987, 18.06577004, 24.42812494, 27.01191591,\n",
       "       27.04229532, 28.74931035, 21.15903611, 26.85714637, 23.39279382,\n",
       "       20.66594607, 17.32177538, 38.23666263, 30.51223306,  8.73835489,\n",
       "       20.80799186, 16.24148665, 25.22070327, 24.85325301, 31.38988466,\n",
       "       10.67212351, 13.783524  , 16.66220478, 36.52159343, 14.66551642,\n",
       "       21.12106897, 13.95432743, 43.15626772, 17.97075598, 21.80185935,\n",
       "       20.57905455, 17.58155841, 27.2199825 ,  9.47824418, 19.82749844,\n",
       "       24.3077049 , 21.18321714, 29.57490879, 16.32475916, 19.31301313,\n",
       "       14.51397551, 39.22033704, 18.11292992, 25.91054669, 20.29617713,\n",
       "       25.15211825, 24.42822059, 25.07546109, 26.6613324 ,  4.55390305,\n",
       "       24.08336598, 10.86668697, 26.89551679, 16.85353948, 35.87802728,\n",
       "       19.5479017 , 27.52176853, 16.57996789, 18.74022974, 11.11998835,\n",
       "       32.36389218, 36.72136243, 21.96221308, 24.58886832, 25.16237279,\n",
       "       23.42964318,  6.92093676, 16.55620973, 20.41459007, 20.80151951,\n",
       "       21.5421404 , 33.86030101, 27.95125679, 25.17296919, 34.65608734,\n",
       "       18.62350158, 23.97901517, 34.64255151, 13.30569813, 20.7135457 ,\n",
       "       30.08345981, 17.11539866, 24.30487089, 19.25506251, 16.9778953 ,\n",
       "       27.00755662, 41.84370941, 14.11572095, 23.26158099, 14.65195547,\n",
       "       21.87501399, 23.0230305 , 29.09495777, 37.11139696, 20.52850907,\n",
       "       17.33410765, 17.70547054])"
      ]
     },
     "execution_count": 61,
     "metadata": {},
     "output_type": "execute_result"
    }
   ],
   "source": [
    "# Predicting the test results\n",
    "\n",
    "y_pred=model.predict(X_test)\n",
    "\n",
    "y_pred\n",
    "\n"
   ]
  },
  {
   "cell_type": "code",
   "execution_count": 62,
   "metadata": {},
   "outputs": [
    {
     "name": "stdout",
     "output_type": "stream",
     "text": [
      "[-1.11325753e-01  5.80279076e-02  1.87598584e-02  2.13323688e+00\n",
      " -1.96163839e+01  3.08811292e+00  4.54705952e-03 -1.50032688e+00\n",
      "  3.04867714e-01 -1.11160011e-02 -9.90074975e-01  7.42536980e-03\n",
      " -5.45602934e-01]\n"
     ]
    }
   ],
   "source": [
    "# Calculating the coefficient\n",
    "print(model.coef_)"
   ]
  },
  {
   "cell_type": "code",
   "execution_count": 63,
   "metadata": {},
   "outputs": [
    {
     "name": "stdout",
     "output_type": "stream",
     "text": [
      "42.97765028124202\n"
     ]
    }
   ],
   "source": [
    "# Calculating the Intercept\n",
    "print(model.intercept_)"
   ]
  },
  {
   "cell_type": "code",
   "execution_count": 64,
   "metadata": {},
   "outputs": [
    {
     "name": "stdout",
     "output_type": "stream",
     "text": [
      "R2_Score:  0.7634809220792277\n"
     ]
    }
   ],
   "source": [
    "# calculate the R squared value to evaluate model's performance\n",
    "\n",
    "from sklearn.metrics import r2_score\n",
    "\n",
    "print(\"R2_Score: \",r2_score(y_test,y_pred))"
   ]
  },
  {
   "cell_type": "code",
   "execution_count": null,
   "metadata": {},
   "outputs": [],
   "source": []
  },
  {
   "cell_type": "code",
   "execution_count": 65,
   "metadata": {},
   "outputs": [],
   "source": [
    "#2 . NOX prediction"
   ]
  },
  {
   "cell_type": "code",
   "execution_count": 66,
   "metadata": {},
   "outputs": [],
   "source": [
    "# Step 1: Import necessary libraries and load the Data\n",
    "\n",
    "import numpy as np\n",
    "import pandas as pd\n",
    "import matplotlib.pyplot as plt\n",
    "import seaborn as sns\n",
    "%matplotlib inline\n",
    "\n"
   ]
  },
  {
   "cell_type": "code",
   "execution_count": 88,
   "metadata": {},
   "outputs": [
    {
     "name": "stdout",
     "output_type": "stream",
     "text": [
      "         CRIM    ZN  INDUS  CHAS     RM    AGE     DIS   RAD    TAX  PTRATIO  \\\n",
      "0     0.00632  18.0   2.31   0.0  6.575   65.2  4.0900   1.0  296.0     15.3   \n",
      "1     0.02731   0.0   7.07   0.0  6.421   78.9  4.9671   2.0  242.0     17.8   \n",
      "2     0.02729   0.0   7.07   0.0  7.185   61.1  4.9671   2.0  242.0     17.8   \n",
      "3     0.03237   0.0   2.18   0.0  6.998   45.8  6.0622   3.0  222.0     18.7   \n",
      "4     0.06905   0.0   2.18   0.0  7.147   54.2  6.0622   3.0  222.0     18.7   \n",
      "5     0.02985   0.0   2.18   0.0  6.430   58.7  6.0622   3.0  222.0     18.7   \n",
      "6     0.08829  12.5   7.87   0.0  6.012   66.6  5.5605   5.0  311.0     15.2   \n",
      "7     0.14455  12.5   7.87   0.0  6.172   96.1  5.9505   5.0  311.0     15.2   \n",
      "8     0.21124  12.5   7.87   0.0  5.631  100.0  6.0821   5.0  311.0     15.2   \n",
      "9     0.17004  12.5   7.87   0.0  6.004   85.9  6.5921   5.0  311.0     15.2   \n",
      "10    0.22489  12.5   7.87   0.0  6.377   94.3  6.3467   5.0  311.0     15.2   \n",
      "11    0.11747  12.5   7.87   0.0  6.009   82.9  6.2267   5.0  311.0     15.2   \n",
      "12    0.09378  12.5   7.87   0.0  5.889   39.0  5.4509   5.0  311.0     15.2   \n",
      "13    0.62976   0.0   8.14   0.0  5.949   61.8  4.7075   4.0  307.0     21.0   \n",
      "14    0.63796   0.0   8.14   0.0  6.096   84.5  4.4619   4.0  307.0     21.0   \n",
      "15    0.62739   0.0   8.14   0.0  5.834   56.5  4.4986   4.0  307.0     21.0   \n",
      "16    1.05393   0.0   8.14   0.0  5.935   29.3  4.4986   4.0  307.0     21.0   \n",
      "17    0.78420   0.0   8.14   0.0  5.990   81.7  4.2579   4.0  307.0     21.0   \n",
      "18    0.80271   0.0   8.14   0.0  5.456   36.6  3.7965   4.0  307.0     21.0   \n",
      "19    0.72580   0.0   8.14   0.0  5.727   69.5  3.7965   4.0  307.0     21.0   \n",
      "20    1.25179   0.0   8.14   0.0  5.570   98.1  3.7979   4.0  307.0     21.0   \n",
      "21    0.85204   0.0   8.14   0.0  5.965   89.2  4.0123   4.0  307.0     21.0   \n",
      "22    1.23247   0.0   8.14   0.0  6.142   91.7  3.9769   4.0  307.0     21.0   \n",
      "23    0.98843   0.0   8.14   0.0  5.813  100.0  4.0952   4.0  307.0     21.0   \n",
      "24    0.75026   0.0   8.14   0.0  5.924   94.1  4.3996   4.0  307.0     21.0   \n",
      "25    0.84054   0.0   8.14   0.0  5.599   85.7  4.4546   4.0  307.0     21.0   \n",
      "26    0.67191   0.0   8.14   0.0  5.813   90.3  4.6820   4.0  307.0     21.0   \n",
      "27    0.95577   0.0   8.14   0.0  6.047   88.8  4.4534   4.0  307.0     21.0   \n",
      "28    0.77299   0.0   8.14   0.0  6.495   94.4  4.4547   4.0  307.0     21.0   \n",
      "29    1.00245   0.0   8.14   0.0  6.674   87.3  4.2390   4.0  307.0     21.0   \n",
      "..        ...   ...    ...   ...    ...    ...     ...   ...    ...      ...   \n",
      "476   4.87141   0.0  18.10   0.0  6.484   93.6  2.3053  24.0  666.0     20.2   \n",
      "477  15.02340   0.0  18.10   0.0  5.304   97.3  2.1007  24.0  666.0     20.2   \n",
      "478  10.23300   0.0  18.10   0.0  6.185   96.7  2.1705  24.0  666.0     20.2   \n",
      "479  14.33370   0.0  18.10   0.0  6.229   88.0  1.9512  24.0  666.0     20.2   \n",
      "480   5.82401   0.0  18.10   0.0  6.242   64.7  3.4242  24.0  666.0     20.2   \n",
      "481   5.70818   0.0  18.10   0.0  6.750   74.9  3.3317  24.0  666.0     20.2   \n",
      "482   5.73116   0.0  18.10   0.0  7.061   77.0  3.4106  24.0  666.0     20.2   \n",
      "483   2.81838   0.0  18.10   0.0  5.762   40.3  4.0983  24.0  666.0     20.2   \n",
      "484   2.37857   0.0  18.10   0.0  5.871   41.9  3.7240  24.0  666.0     20.2   \n",
      "485   3.67367   0.0  18.10   0.0  6.312   51.9  3.9917  24.0  666.0     20.2   \n",
      "486   5.69175   0.0  18.10   0.0  6.114   79.8  3.5459  24.0  666.0     20.2   \n",
      "487   4.83567   0.0  18.10   0.0  5.905   53.2  3.1523  24.0  666.0     20.2   \n",
      "488   0.15086   0.0  27.74   0.0  5.454   92.7  1.8209   4.0  711.0     20.1   \n",
      "489   0.18337   0.0  27.74   0.0  5.414   98.3  1.7554   4.0  711.0     20.1   \n",
      "490   0.20746   0.0  27.74   0.0  5.093   98.0  1.8226   4.0  711.0     20.1   \n",
      "491   0.10574   0.0  27.74   0.0  5.983   98.8  1.8681   4.0  711.0     20.1   \n",
      "492   0.11132   0.0  27.74   0.0  5.983   83.5  2.1099   4.0  711.0     20.1   \n",
      "493   0.17331   0.0   9.69   0.0  5.707   54.0  2.3817   6.0  391.0     19.2   \n",
      "494   0.27957   0.0   9.69   0.0  5.926   42.6  2.3817   6.0  391.0     19.2   \n",
      "495   0.17899   0.0   9.69   0.0  5.670   28.8  2.7986   6.0  391.0     19.2   \n",
      "496   0.28960   0.0   9.69   0.0  5.390   72.9  2.7986   6.0  391.0     19.2   \n",
      "497   0.26838   0.0   9.69   0.0  5.794   70.6  2.8927   6.0  391.0     19.2   \n",
      "498   0.23912   0.0   9.69   0.0  6.019   65.3  2.4091   6.0  391.0     19.2   \n",
      "499   0.17783   0.0   9.69   0.0  5.569   73.5  2.3999   6.0  391.0     19.2   \n",
      "500   0.22438   0.0   9.69   0.0  6.027   79.7  2.4982   6.0  391.0     19.2   \n",
      "501   0.06263   0.0  11.93   0.0  6.593   69.1  2.4786   1.0  273.0     21.0   \n",
      "502   0.04527   0.0  11.93   0.0  6.120   76.7  2.2875   1.0  273.0     21.0   \n",
      "503   0.06076   0.0  11.93   0.0  6.976   91.0  2.1675   1.0  273.0     21.0   \n",
      "504   0.10959   0.0  11.93   0.0  6.794   89.3  2.3889   1.0  273.0     21.0   \n",
      "505   0.04741   0.0  11.93   0.0  6.030   80.8  2.5050   1.0  273.0     21.0   \n",
      "\n",
      "          B  LSTAT  MDEV  \n",
      "0    396.90   4.98  24.0  \n",
      "1    396.90   9.14  21.6  \n",
      "2    392.83   4.03  34.7  \n",
      "3    394.63   2.94  33.4  \n",
      "4    396.90   5.33  36.2  \n",
      "5    394.12   5.21  28.7  \n",
      "6    395.60  12.43  22.9  \n",
      "7    396.90  19.15  27.1  \n",
      "8    386.63  29.93  16.5  \n",
      "9    386.71  17.10  18.9  \n",
      "10   392.52  20.45  15.0  \n",
      "11   396.90  13.27  18.9  \n",
      "12   390.50  15.71  21.7  \n",
      "13   396.90   8.26  20.4  \n",
      "14   380.02  10.26  18.2  \n",
      "15   395.62   8.47  19.9  \n",
      "16   386.85   6.58  23.1  \n",
      "17   386.75  14.67  17.5  \n",
      "18   288.99  11.69  20.2  \n",
      "19   390.95  11.28  18.2  \n",
      "20   376.57  21.02  13.6  \n",
      "21   392.53  13.83  19.6  \n",
      "22   396.90  18.72  15.2  \n",
      "23   394.54  19.88  14.5  \n",
      "24   394.33  16.30  15.6  \n",
      "25   303.42  16.51  13.9  \n",
      "26   376.88  14.81  16.6  \n",
      "27   306.38  17.28  14.8  \n",
      "28   387.94  12.80  18.4  \n",
      "29   380.23  11.98  21.0  \n",
      "..      ...    ...   ...  \n",
      "476  396.21  18.68  16.7  \n",
      "477  349.48  24.91  12.0  \n",
      "478  379.70  18.03  14.6  \n",
      "479  383.32  13.11  21.4  \n",
      "480  396.90  10.74  23.0  \n",
      "481  393.07   7.74  23.7  \n",
      "482  395.28   7.01  25.0  \n",
      "483  392.92  10.42  21.8  \n",
      "484  370.73  13.34  20.6  \n",
      "485  388.62  10.58  21.2  \n",
      "486  392.68  14.98  19.1  \n",
      "487  388.22  11.45  20.6  \n",
      "488  395.09  18.06  15.2  \n",
      "489  344.05  23.97   7.0  \n",
      "490  318.43  29.68   8.1  \n",
      "491  390.11  18.07  13.6  \n",
      "492  396.90  13.35  20.1  \n",
      "493  396.90  12.01  21.8  \n",
      "494  396.90  13.59  24.5  \n",
      "495  393.29  17.60  23.1  \n",
      "496  396.90  21.14  19.7  \n",
      "497  396.90  14.10  18.3  \n",
      "498  396.90  12.92  21.2  \n",
      "499  395.77  15.10  17.5  \n",
      "500  396.90  14.33  16.8  \n",
      "501  391.99   9.67  22.4  \n",
      "502  396.90   9.08  20.6  \n",
      "503  396.90   5.64  23.9  \n",
      "504  393.45   6.48  22.0  \n",
      "505  396.90   7.88  11.9  \n",
      "\n",
      "[506 rows x 13 columns]\n"
     ]
    }
   ],
   "source": [
    "# Importing the dataset and extracting the dependent and independent variables\n",
    "data=pd.read_csv(\"boston.csv\")\n",
    "\n",
    "features=[\"CRIM\", \"ZN\",\"INDUS\",\"CHAS\",\"NOX\",\"RM\",\"AGE\",\"DIS\",\"RAD\",\"TAX\",\"PTRATIO\",\"B\",\"LSTAT\",\"MDEV\"]\n",
    "X=data.iloc[:, [0,1,2,3,5,6,7,8,9,10,11,12,13]] # I can use pandas to recreate this dataset if it was a large dataset\n",
    "y=data.iloc[:,4].values\n",
    "\n",
    "print(X)"
   ]
  },
  {
   "cell_type": "code",
   "execution_count": 89,
   "metadata": {},
   "outputs": [
    {
     "data": {
      "text/plain": [
       "<matplotlib.axes._subplots.AxesSubplot at 0x2db0c1f8080>"
      ]
     },
     "execution_count": 89,
     "metadata": {},
     "output_type": "execute_result"
    },
    {
     "data": {
      "image/png": "[encoded data removed]",
      "text/plain": [
       "<matplotlib.figure.Figure at 0x2db0c1e59b0>"
      ]
     },
     "metadata": {},
     "output_type": "display_data"
    }
   ],
   "source": [
    "# step 3: Create Data Visualization through the Correlation matrix\n",
    "\n",
    "\n",
    "sns.heatmap(data.corr())\n"
   ]
  },
  {
   "cell_type": "code",
   "execution_count": 90,
   "metadata": {},
   "outputs": [],
   "source": [
    "# step 3: Fitting the linear regression model\n",
    "\n",
    "# Import LinearRegression and split the data into training and testing sets\n",
    "\n",
    "from sklearn.model_selection import train_test_split\n",
    "X_train, X_test, y_train, y_test = train_test_split(X,y,test_size=0.2,random_state=1)"
   ]
  },
  {
   "cell_type": "code",
   "execution_count": 91,
   "metadata": {},
   "outputs": [
    {
     "data": {
      "text/plain": [
       "LinearRegression(copy_X=True, fit_intercept=True, n_jobs=1, normalize=False)"
      ]
     },
     "execution_count": 91,
     "metadata": {},
     "output_type": "execute_result"
    }
   ],
   "source": [
    "# Fit the model over the training dataset\n",
    "\n",
    "from sklearn.linear_model import LinearRegression\n",
    "model=LinearRegression()\n",
    "model.fit(X_train,y_train)"
   ]
  },
  {
   "cell_type": "code",
   "execution_count": 92,
   "metadata": {},
   "outputs": [
    {
     "data": {
      "text/plain": [
       "array([0.50013275, 0.47689502, 0.50658023, 0.42439659, 0.6773021 ,\n",
       "       0.59694046, 0.4275639 , 0.52389265, 0.62906287, 0.51086125,\n",
       "       0.62572912, 0.42248185, 0.5736101 , 0.46905103, 0.57079517,\n",
       "       0.66930367, 0.68740282, 0.4906277 , 0.47732184, 0.70471544,\n",
       "       0.54972779, 0.71588215, 0.54272159, 0.45777028, 0.44881757,\n",
       "       0.70510319, 0.53139958, 0.42033947, 0.56934163, 0.70094411,\n",
       "       0.35359347, 0.4491387 , 0.42578717, 0.68641174, 0.46826782,\n",
       "       0.52487052, 0.68685985, 0.39504908, 0.70261314, 0.63608645,\n",
       "       0.4605598 , 0.41603573, 0.53741576, 0.68723274, 0.68116742,\n",
       "       0.69205207, 0.62961766, 0.68979554, 0.67118866, 0.5482472 ,\n",
       "       0.61708902, 0.46969025, 0.42033032, 0.67781229, 0.69676725,\n",
       "       0.44347014, 0.69585727, 0.53831991, 0.49913895, 0.47294654,\n",
       "       0.68593697, 0.4655986 , 0.71052583, 0.68491573, 0.47283531,\n",
       "       0.46607731, 0.48927735, 0.48912646, 0.52698791, 0.66943907,\n",
       "       0.4416144 , 0.69341668, 0.67786801, 0.49450711, 0.54367095,\n",
       "       0.59222467, 0.63386477, 0.44200931, 0.68836108, 0.40576754,\n",
       "       0.61762361, 0.58916213, 0.48571696, 0.68696203, 0.36099607,\n",
       "       0.44803413, 0.68977088, 0.42615825, 0.55504154, 0.61088465,\n",
       "       0.53475815, 0.55324055, 0.68354088, 0.53239848, 0.670251  ,\n",
       "       0.54385964, 0.51425894, 0.54298341, 0.5018298 , 0.50339877,\n",
       "       0.67615689, 0.68409009])"
      ]
     },
     "execution_count": 92,
     "metadata": {},
     "output_type": "execute_result"
    }
   ],
   "source": [
    "# Predicting the test results\n",
    "\n",
    "y_pred=model.predict(X_test)\n",
    "\n",
    "y_pred\n"
   ]
  },
  {
   "cell_type": "code",
   "execution_count": 93,
   "metadata": {},
   "outputs": [
    {
     "name": "stdout",
     "output_type": "stream",
     "text": [
      "[-8.62912894e-04  1.02345288e-04  4.27252243e-03  1.90839540e-02\n",
      " -2.56482151e-03  8.22985215e-04 -1.79011408e-02  3.06805566e-03\n",
      "  5.59934513e-05 -1.35018523e-02 -2.98052488e-05 -4.83046698e-04\n",
      " -2.60855758e-03]\n"
     ]
    }
   ],
   "source": [
    "# Calculating the coefficient\n",
    "print(model.coef_)"
   ]
  },
  {
   "cell_type": "code",
   "execution_count": 94,
   "metadata": {},
   "outputs": [
    {
     "name": "stdout",
     "output_type": "stream",
     "text": [
      "0.8077238940077519\n"
     ]
    }
   ],
   "source": [
    "# Calculating the Intercept\n",
    "print(model.intercept_)"
   ]
  },
  {
   "cell_type": "code",
   "execution_count": 95,
   "metadata": {},
   "outputs": [
    {
     "name": "stdout",
     "output_type": "stream",
     "text": [
      "R2_Score:  0.7549423871852945\n"
     ]
    }
   ],
   "source": [
    "# calculate the R squared value to evaluate model's performance\n",
    "\n",
    "from sklearn.metrics import r2_score\n",
    "\n",
    "print(\"R2_Score: \",r2_score(y_test,y_pred))"
   ]
  },
  {
   "cell_type": "code",
   "execution_count": null,
   "metadata": {},
   "outputs": [],
   "source": []
  }
 ],
 "metadata": {
  "kernelspec": {
   "display_name": "Python 3",
   "language": "python",
   "name": "python3"
  },
  "language_info": {
   "codemirror_mode": {
    "name": "ipython",
    "version": 3
   },
   "file_extension": ".py",
   "mimetype": "text/x-python",
   "name": "python",
   "nbconvert_exporter": "python",
   "pygments_lexer": "ipython3",
   "version": "3.6.4"
  }
 },
 "nbformat": 4,
 "nbformat_minor": 2
}
